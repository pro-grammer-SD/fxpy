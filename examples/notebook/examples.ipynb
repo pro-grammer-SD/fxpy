{
 "cells": [
  {
   "cell_type": "markdown",
   "id": "ecca3e3b",
   "metadata": {},
   "source": [
    "Zoom In"
   ]
  },
  {
   "cell_type": "code",
   "execution_count": null,
   "id": "a312cba7",
   "metadata": {},
   "outputs": [
    {
     "ename": "NameError",
     "evalue": "name '__file__' is not defined",
     "output_type": "error",
     "traceback": [
      "\u001b[31m---------------------------------------------------------------------------\u001b[39m",
      "\u001b[31mNameError\u001b[39m                                 Traceback (most recent call last)",
      "\u001b[36mCell\u001b[39m\u001b[36m \u001b[39m\u001b[32mIn[1]\u001b[39m\u001b[32m, line 2\u001b[39m\n\u001b[32m      1\u001b[39m \u001b[38;5;28;01mimport\u001b[39;00m\u001b[38;5;250m \u001b[39m\u001b[34;01mos\u001b[39;00m,\u001b[38;5;250m \u001b[39m\u001b[34;01msys\u001b[39;00m\n\u001b[32m----> \u001b[39m\u001b[32m2\u001b[39m base_dir = os.path.abspath(os.path.join(os.path.dirname(\u001b[34;43m__file__\u001b[39;49m), \u001b[33m\"\u001b[39m\u001b[33m../../\u001b[39m\u001b[33m\"\u001b[39m))\n\u001b[32m      3\u001b[39m sys.path.insert(\u001b[32m0\u001b[39m, base_dir)\n\u001b[32m      4\u001b[39m os.chdir(base_dir)\n",
      "\u001b[31mNameError\u001b[39m: name '__file__' is not defined"
     ]
    }
   ],
   "source": [
    "import os, sys\n",
    "base_dir = os.path.abspath(os.path.join(os.path.dirname(\"__file__\"), \"../../\"))\n",
    "sys.path.insert(0, base_dir)\n",
    "os.chdir(base_dir)\n",
    "\n",
    "from zoom_in import zoom_in\n",
    "\n",
    "zoom_in(\"samples/input.mp4\", (0.5, 0.5), (3, 7))  # ← zoom into center from 3s to 7s\n",
    "\n",
    "from IPython.display import Video\n",
    "Video(\"output.mp4\", embed=True)\n"
   ]
  }
 ],
 "metadata": {
  "kernelspec": {
   "display_name": "Python 3",
   "language": "python",
   "name": "python3"
  },
  "language_info": {
   "codemirror_mode": {
    "name": "ipython",
    "version": 3
   },
   "file_extension": ".py",
   "mimetype": "text/x-python",
   "name": "python",
   "nbconvert_exporter": "python",
   "pygments_lexer": "ipython3",
   "version": "3.13.5"
  }
 },
 "nbformat": 4,
 "nbformat_minor": 5
}
